{
 "cells": [
  {
   "cell_type": "markdown",
   "id": "8a8ab6b6-e389-4119-880d-5ba885c49301",
   "metadata": {},
   "source": [
    "## Neighbor calculation time statistics of pyscal 2.10.15 and pyscal 3"
   ]
  },
  {
   "cell_type": "code",
   "execution_count": 1,
   "id": "f97c335b-befb-4ad3-9c55-ed1a36b6b67d",
   "metadata": {},
   "outputs": [],
   "source": [
    "import matplotlib.pyplot as plt\n",
    "import numpy as np"
   ]
  },
  {
   "cell_type": "markdown",
   "id": "7f828984-d7f7-483f-8f8a-c7aae815ebda",
   "metadata": {},
   "source": []
  },
  {
   "cell_type": "code",
   "execution_count": null,
   "id": "7e35610f-f640-4182-bed6-98902a7e16fd",
   "metadata": {},
   "outputs": [],
   "source": [
    "natoms = [250, 686, 2000, 6750,\n",
    "         16000, 31250, 54000]\n",
    "\n",
    "p2 = [5.26, 13.7, 93.4, 72.6,\n",
    "     193, 397, 695]\n",
    "\n",
    "p3 = [2.87, 18.7, 68, 287, \n",
    "     688, 1280, 2590]"
   ]
  },
  {
   "cell_type": "markdown",
   "id": "ec569f37-6e38-4f17-afe5-886b8e1c3cb7",
   "metadata": {},
   "source": [
    "Effect of cell lists"
   ]
  },
  {
   "cell_type": "code",
   "execution_count": null,
   "id": "2b5f10ef-5c4a-4d03-85fc-56784ef4b7c1",
   "metadata": {},
   "outputs": [],
   "source": [
    "natoms = [250, 686, 2000, 6750, \n",
    "         16000, 31250, ]\n",
    "\n",
    "nocell = [2.78, 13.5, 93.5, 969, \n",
    "         5090, ]\n",
    "\n",
    "cell = [2.32, 6.08, 20.8, 67.4, \n",
    "       177, ]\n"
   ]
  }
 ],
 "metadata": {
  "kernelspec": {
   "display_name": "pyscal-stable",
   "language": "python",
   "name": "pyscal-stable"
  },
  "language_info": {
   "codemirror_mode": {
    "name": "ipython",
    "version": 3
   },
   "file_extension": ".py",
   "mimetype": "text/x-python",
   "name": "python",
   "nbconvert_exporter": "python",
   "pygments_lexer": "ipython3",
   "version": "3.10.1"
  }
 },
 "nbformat": 4,
 "nbformat_minor": 5
}
