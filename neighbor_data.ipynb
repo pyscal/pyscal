{
 "cells": [
  {
   "cell_type": "markdown",
   "id": "8a8ab6b6-e389-4119-880d-5ba885c49301",
   "metadata": {},
   "source": [
    "## Neighbor calculation time statistics of pyscal 2.10.15 and pyscal 3"
   ]
  },
  {
   "cell_type": "code",
   "execution_count": 1,
   "id": "f97c335b-befb-4ad3-9c55-ed1a36b6b67d",
   "metadata": {},
   "outputs": [],
   "source": [
    "import matplotlib.pyplot as plt\n",
    "import numpy as np"
   ]
  },
  {
   "cell_type": "markdown",
   "id": "7f828984-d7f7-483f-8f8a-c7aae815ebda",
   "metadata": {},
   "source": [
    "## "
   ]
  }
 ],
 "metadata": {
  "kernelspec": {
   "display_name": "pyscal-stable",
   "language": "python",
   "name": "pyscal-stable"
  },
  "language_info": {
   "codemirror_mode": {
    "name": "ipython",
    "version": 3
   },
   "file_extension": ".py",
   "mimetype": "text/x-python",
   "name": "python",
   "nbconvert_exporter": "python",
   "pygments_lexer": "ipython3",
   "version": "3.10.1"
  }
 },
 "nbformat": 4,
 "nbformat_minor": 5
}
