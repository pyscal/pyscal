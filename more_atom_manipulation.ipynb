{
 "cells": [
  {
   "cell_type": "code",
   "execution_count": 1,
   "id": "7b6c6850-09c2-4895-9e09-cd2b87992b9e",
   "metadata": {},
   "outputs": [],
   "source": [
    "import pyscal.crystal_structures as pcs\n",
    "import pyscal.core as pc\n",
    "from pyscal.atoms import Atoms"
   ]
  },
  {
   "cell_type": "code",
   "execution_count": 2,
   "id": "7492a5e0-b155-4f66-b1b0-7ee2fba93cef",
   "metadata": {},
   "outputs": [],
   "source": [
    "atoms, box = pcs.make_crystal(structure=\"fcc\", repetitions=2)"
   ]
  },
  {
   "cell_type": "code",
   "execution_count": 3,
   "id": "f1e356d9-7770-4b8e-aad6-b0b6d96058dc",
   "metadata": {},
   "outputs": [],
   "source": [
    "at = Atoms()\n",
    "at.from_dict(atoms)"
   ]
  },
  {
   "cell_type": "code",
   "execution_count": 8,
   "id": "aaf8b8ba-e899-4c50-a0df-362972828e85",
   "metadata": {},
   "outputs": [
    {
     "data": {
      "text/plain": [
       "[False,\n",
       " False,\n",
       " False,\n",
       " False,\n",
       " False,\n",
       " False,\n",
       " False,\n",
       " False,\n",
       " False,\n",
       " False,\n",
       " False,\n",
       " False,\n",
       " False,\n",
       " False,\n",
       " False,\n",
       " False,\n",
       " False,\n",
       " False,\n",
       " False,\n",
       " False,\n",
       " False,\n",
       " False,\n",
       " False,\n",
       " False,\n",
       " False,\n",
       " False,\n",
       " False,\n",
       " False,\n",
       " False,\n",
       " False,\n",
       " False,\n",
       " False]"
      ]
     },
     "execution_count": 8,
     "metadata": {},
     "output_type": "execute_result"
    }
   ],
   "source": [
    "at.mask.primary"
   ]
  },
  {
   "cell_type": "code",
   "execution_count": null,
   "id": "51502ab1-49f8-4c75-a9d1-1b9f72c0f309",
   "metadata": {},
   "outputs": [],
   "source": []
  }
 ],
 "metadata": {
  "kernelspec": {
   "display_name": "Python 3 (ipykernel)",
   "language": "python",
   "name": "python3"
  },
  "language_info": {
   "codemirror_mode": {
    "name": "ipython",
    "version": 3
   },
   "file_extension": ".py",
   "mimetype": "text/x-python",
   "name": "python",
   "nbconvert_exporter": "python",
   "pygments_lexer": "ipython3",
   "version": "3.10.6"
  }
 },
 "nbformat": 4,
 "nbformat_minor": 5
}
