{
 "cells": [
  {
   "cell_type": "code",
   "execution_count": 1,
   "id": "7b6c6850-09c2-4895-9e09-cd2b87992b9e",
   "metadata": {},
   "outputs": [],
   "source": [
    "import pyscal.crystal_structures as pcs\n",
    "import pyscal.core as pc\n",
    "from pyscal.atoms import Atoms"
   ]
  },
  {
   "cell_type": "code",
   "execution_count": 2,
   "id": "7492a5e0-b155-4f66-b1b0-7ee2fba93cef",
   "metadata": {},
   "outputs": [],
   "source": [
    "atoms, box = pcs.make_crystal(structure=\"fcc\", repetitions=2)"
   ]
  },
  {
   "cell_type": "code",
   "execution_count": 3,
   "id": "f1e356d9-7770-4b8e-aad6-b0b6d96058dc",
   "metadata": {},
   "outputs": [],
   "source": [
    "at = Atoms()\n",
    "at.from_dict(atoms)"
   ]
  },
  {
   "cell_type": "code",
   "execution_count": 4,
   "id": "2555ef21-97ff-44fd-99a4-538341fcb640",
   "metadata": {},
   "outputs": [
    {
     "name": "stderr",
     "output_type": "stream",
     "text": [
      "/home/menon/miniconda3/envs/pyscal-test/lib/python3.10/site-packages/pyscal-2.10.15-py3.10-linux-x86_64.egg/pyscal/atoms.py:184: UserWarning: Not all ids were found\n",
      "  warnings.warn(\"Not all ids were found\")\n"
     ]
    }
   ],
   "source": [
    "at.delete(ids=[30, 31, 32, 45])"
   ]
  },
  {
   "cell_type": "code",
   "execution_count": 5,
   "id": "5a30f83f-7fae-4690-bbd3-7386bc3130ad",
   "metadata": {},
   "outputs": [
    {
     "data": {
      "text/plain": [
       "29"
      ]
     },
     "execution_count": 5,
     "metadata": {},
     "output_type": "execute_result"
    }
   ],
   "source": [
    "at.natoms"
   ]
  },
  {
   "cell_type": "code",
   "execution_count": 6,
   "id": "1bf74628-aa11-4466-af51-a977b274f500",
   "metadata": {},
   "outputs": [
    {
     "data": {
      "text/plain": [
       "[1,\n",
       " 2,\n",
       " 3,\n",
       " 4,\n",
       " 5,\n",
       " 6,\n",
       " 7,\n",
       " 8,\n",
       " 9,\n",
       " 10,\n",
       " 11,\n",
       " 12,\n",
       " 13,\n",
       " 14,\n",
       " 15,\n",
       " 16,\n",
       " 17,\n",
       " 18,\n",
       " 19,\n",
       " 20,\n",
       " 21,\n",
       " 22,\n",
       " 23,\n",
       " 24,\n",
       " 25,\n",
       " 26,\n",
       " 27,\n",
       " 28,\n",
       " 29]"
      ]
     },
     "execution_count": 6,
     "metadata": {},
     "output_type": "execute_result"
    }
   ],
   "source": [
    "at[\"ids\"]"
   ]
  },
  {
   "cell_type": "code",
   "execution_count": null,
   "id": "aaf8b8ba-e899-4c50-a0df-362972828e85",
   "metadata": {},
   "outputs": [],
   "source": []
  }
 ],
 "metadata": {
  "kernelspec": {
   "display_name": "Python 3 (ipykernel)",
   "language": "python",
   "name": "python3"
  },
  "language_info": {
   "codemirror_mode": {
    "name": "ipython",
    "version": 3
   },
   "file_extension": ".py",
   "mimetype": "text/x-python",
   "name": "python",
   "nbconvert_exporter": "python",
   "pygments_lexer": "ipython3",
   "version": "3.10.4"
  }
 },
 "nbformat": 4,
 "nbformat_minor": 5
}
