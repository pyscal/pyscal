{
 "cells": [
  {
   "cell_type": "code",
   "execution_count": 1,
   "id": "liquid-concert",
   "metadata": {},
   "outputs": [],
   "source": [
    "import pyscal.crystal_structures as pcs\n",
    "import pyscal.csystem as pcm\n",
    "import pyscal.core as pc\n",
    "from ase import atoms\n",
    "from ase.io import read, write\n",
    "from ase.build import bulk\n",
    "import numpy as np\n",
    "import matplotlib.pyplot as plt\n",
    "from scipy.spatial import Voronoi, voronoi_plot_2d\n",
    "from pychromatic import Multiplot\n",
    "from pychromatic.colors import accent\n",
    "import copy"
   ]
  },
  {
   "cell_type": "code",
   "execution_count": 18,
   "id": "9eb6edbb-6e56-42fd-837a-fd13d6a3347d",
   "metadata": {},
   "outputs": [
    {
     "name": "stdout",
     "output_type": "stream",
     "text": [
      "96000\n"
     ]
    }
   ],
   "source": [
    "nx = 20\n",
    "print(nx**3*12)\n",
    "atoms, box = pcs.make_crystal(structure=\"bcc\", repetitions=(nx,nx,nx))\n",
    "sys = pc.System()\n",
    "sys.box = box\n",
    "sys.atoms = atoms"
   ]
  },
  {
   "cell_type": "code",
   "execution_count": 19,
   "id": "66dc942b-7723-4d35-84c2-58acfa7fc273",
   "metadata": {},
   "outputs": [
    {
     "name": "stdout",
     "output_type": "stream",
     "text": [
      "1.47 s ± 20.6 ms per loop (mean ± std. dev. of 7 runs, 1 loop each)\n"
     ]
    }
   ],
   "source": [
    "%%timeit\n",
    "sys.find_neighbors(method='voronoi', cutoff=0.1)"
   ]
  },
  {
   "cell_type": "code",
   "execution_count": 20,
   "id": "1dfe6b57-1bec-42db-8f04-374680cd7866",
   "metadata": {},
   "outputs": [
    {
     "data": {
      "text/plain": [
       "96000"
      ]
     },
     "execution_count": 20,
     "metadata": {},
     "output_type": "execute_result"
    }
   ],
   "source": [
    "len(sys.atom.voronoi.vertex.unique_positions)"
   ]
  },
  {
   "cell_type": "code",
   "execution_count": 8,
   "id": "1ce6f7cf-67a7-487d-abd8-65b30e7bcd61",
   "metadata": {},
   "outputs": [
    {
     "name": "stdout",
     "output_type": "stream",
     "text": [
      "2.57 s ± 60.1 ms per loop (mean ± std. dev. of 7 runs, 1 loop each)\n"
     ]
    }
   ],
   "source": [
    "%%timeit\n",
    "sys.find_neighbors(method='voronoi', cutoff=0.1, clean_vertices=False)"
   ]
  },
  {
   "cell_type": "code",
   "execution_count": 26,
   "id": "ae768c7d-5dc9-4cf4-bc09-3d49370c3420",
   "metadata": {},
   "outputs": [],
   "source": [
    "natoms = [(5**3)*2, (7**3)*2, (10**3)*2, (12**3)*2, (15**3)*2, (16**3)*2, (18**3)*2, (20**3)*2,]\n",
    "t_voro_o1 = [21, 57, 168, 324, 609, 877, ]\n",
    "t_voroc = [22, 60, 171, 359, 672, 857, 1200, 1600]\n",
    "t_voro = [7, 21, 64, 130, 290, 351, 480, 637]\n",
    "t_scipy = [7, 21, 78, 151, 377, 465, 671, 1000]"
   ]
  },
  {
   "cell_type": "code",
   "execution_count": 29,
   "id": "373debf6-50ee-4732-b93c-12bdf470c1d9",
   "metadata": {},
   "outputs": [
    {
     "data": {
      "image/png": "[encoded data removed]",
      "text/plain": [
       "<Figure size 508.095x314.02 with 1 Axes>"
      ]
     },
     "metadata": {
      "needs_background": "light"
     },
     "output_type": "display_data"
    }
   ],
   "source": [
    "mlt = Multiplot()\n",
    "mlt[0,0].plot(natoms, t_voroc, '-', color=accent['pred'])\n",
    "mlt[0,0].plot(natoms, t_voro, '-', color=accent['pgreen'])\n",
    "mlt[0,0].plot(natoms, t_scipy, '-', color=accent['pyellow'])\n",
    "mlt[0,0].plot(natoms, t_voroc, 'o', label=\"pyscal voro+clean\", color=accent['pred'], markeredgecolor=accent[\"dgrey\"])\n",
    "mlt[0,0].plot(natoms, t_voro, 'o', label=\"pyscal voro\", color=accent['pgreen'], markeredgecolor=accent[\"dgrey\"])\n",
    "mlt[0,0].plot(natoms, t_scipy, 'o', label=\"scipy\", color=accent['pyellow'], markeredgecolor=accent[\"dgrey\"])\n",
    "mlt[0,0].set_xlabel(\"#atoms\")\n",
    "mlt[0,0].set_ylabel(\"Time (ms)\")\n",
    "mlt[0,0].legend()\n",
    "plt.savefig(\"voro_timing.png\", dpi=300, bbox_inches=\"tight\")"
   ]
  },
  {
   "cell_type": "code",
   "execution_count": null,
   "id": "15379cfe-daf2-4092-b8ed-c643e8698d14",
   "metadata": {},
   "outputs": [],
   "source": []
  },
  {
   "cell_type": "code",
   "execution_count": null,
   "id": "56b23cd3-ce49-4b9c-a66f-5fb928f5e008",
   "metadata": {},
   "outputs": [],
   "source": []
  },
  {
   "cell_type": "code",
   "execution_count": null,
   "id": "752e1f62-e691-4bde-9dac-71e2b49efec0",
   "metadata": {},
   "outputs": [],
   "source": []
  },
  {
   "cell_type": "code",
   "execution_count": 10,
   "id": "8c20c942-8023-4425-b507-6e6a65e8e425",
   "metadata": {},
   "outputs": [],
   "source": [
    "def get_distance(x, box, dim=3):\n",
    "    box_2 = box/2\n",
    "    xdum = []\n",
    "    for i in range(dim):\n",
    "        xd = np.meshgrid(x[i], x[i])[1] - np.meshgrid(x[i], x[i])[0]\n",
    "        xdum.append(xd)\n",
    "    xd = np.array(xdum)\n",
    "    for i in range(dim):\n",
    "        xd[i] = np.where(xd[i] > box_2[i], xd[i]-box[i], xd[i])\n",
    "        xd[i] = np.where(xd[i] < -box_2[i], xd[i]+box[i], xd[i])\n",
    "    return xd"
   ]
  },
  {
   "cell_type": "code",
   "execution_count": 12,
   "id": "73b78891-ef91-45f0-aba1-1e8be0fc187f",
   "metadata": {},
   "outputs": [],
   "source": [
    "x = sys.atoms['positions']\n",
    "box = sys.boxdims"
   ]
  },
  {
   "cell_type": "code",
   "execution_count": 16,
   "id": "6337c594-f8ca-447d-8277-f86987ce3e21",
   "metadata": {},
   "outputs": [],
   "source": [
    "x = np.array(x)"
   ]
  },
  {
   "cell_type": "code",
   "execution_count": 20,
   "id": "ed395d26-9344-4ca1-acd4-5ae7a8949748",
   "metadata": {},
   "outputs": [],
   "source": [
    "y = x.T"
   ]
  },
  {
   "cell_type": "code",
   "execution_count": 28,
   "id": "9d26f239-c648-4454-b45d-4fbede636145",
   "metadata": {},
   "outputs": [
    {
     "name": "stdout",
     "output_type": "stream",
     "text": [
      "224 ms ± 857 µs per loop (mean ± std. dev. of 7 runs, 1 loop each)\n"
     ]
    }
   ],
   "source": [
    "%%timeit\n",
    "xd = get_distance(y, np.array(box))"
   ]
  },
  {
   "cell_type": "code",
   "execution_count": 27,
   "id": "0eb9ab1c-921e-48a2-a753-8eb9d04371c2",
   "metadata": {},
   "outputs": [
    {
     "data": {
      "text/plain": [
       "(3, 2000, 2000)"
      ]
     },
     "execution_count": 27,
     "metadata": {},
     "output_type": "execute_result"
    }
   ],
   "source": [
    "xd.shape"
   ]
  },
  {
   "cell_type": "code",
   "execution_count": 23,
   "id": "5c35e8a0-4e7c-48fc-a7d2-e7a348d2896c",
   "metadata": {
    "collapsed": true,
    "jupyter": {
     "outputs_hidden": true
    },
    "tags": []
   },
   "outputs": [
    {
     "data": {
      "text/plain": [
       "array([[[ 0.    , -1.5635,  0.    , ...,  1.5635,  3.127 ,  1.5635],\n",
       "        [ 1.5635,  0.    ,  1.5635, ...,  3.127 ,  4.6905,  3.127 ],\n",
       "        [ 0.    , -1.5635,  0.    , ...,  1.5635,  3.127 ,  1.5635],\n",
       "        ...,\n",
       "        [-1.5635, -3.127 , -1.5635, ...,  0.    ,  1.5635,  0.    ],\n",
       "        [-3.127 , -4.6905, -3.127 , ..., -1.5635,  0.    , -1.5635],\n",
       "        [-1.5635, -3.127 , -1.5635, ...,  0.    ,  1.5635,  0.    ]],\n",
       "\n",
       "       [[ 0.    , -1.5635,  0.    , ...,  1.5635,  3.127 ,  1.5635],\n",
       "        [ 1.5635,  0.    ,  1.5635, ...,  3.127 ,  4.6905,  3.127 ],\n",
       "        [ 0.    , -1.5635,  0.    , ...,  1.5635,  3.127 ,  1.5635],\n",
       "        ...,\n",
       "        [-1.5635, -3.127 , -1.5635, ...,  0.    ,  1.5635,  0.    ],\n",
       "        [-3.127 , -4.6905, -3.127 , ..., -1.5635,  0.    , -1.5635],\n",
       "        [-1.5635, -3.127 , -1.5635, ...,  0.    ,  1.5635,  0.    ]],\n",
       "\n",
       "       [[ 0.    , -1.5635, -3.127 , ...,  4.6905,  3.127 ,  1.5635],\n",
       "        [ 1.5635,  0.    , -1.5635, ...,  6.254 ,  4.6905,  3.127 ],\n",
       "        [ 3.127 ,  1.5635,  0.    , ...,  7.8175,  6.254 ,  4.6905],\n",
       "        ...,\n",
       "        [-4.6905, -6.254 , -7.8175, ...,  0.    , -1.5635, -3.127 ],\n",
       "        [-3.127 , -4.6905, -6.254 , ...,  1.5635,  0.    , -1.5635],\n",
       "        [-1.5635, -3.127 , -4.6905, ...,  3.127 ,  1.5635,  0.    ]]])"
      ]
     },
     "execution_count": 23,
     "metadata": {},
     "output_type": "execute_result"
    }
   ],
   "source": [
    "np.where(xd[]"
   ]
  },
  {
   "cell_type": "code",
   "execution_count": null,
   "id": "7669c585-0a71-47dd-9f02-a2d8c50f526f",
   "metadata": {},
   "outputs": [],
   "source": []
  }
 ],
 "metadata": {
  "kernelspec": {
   "display_name": "pyscal-test",
   "language": "python",
   "name": "pyscal-test"
  },
  "language_info": {
   "codemirror_mode": {
    "name": "ipython",
    "version": 3
   },
   "file_extension": ".py",
   "mimetype": "text/x-python",
   "name": "python",
   "nbconvert_exporter": "python",
   "pygments_lexer": "ipython3",
   "version": "3.10.1"
  }
 },
 "nbformat": 4,
 "nbformat_minor": 5
}
