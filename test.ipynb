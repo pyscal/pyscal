{
 "cells": [
  {
   "cell_type": "code",
   "execution_count": 1,
   "id": "liquid-concert",
   "metadata": {},
   "outputs": [],
   "source": [
    "import pyscal.crystal_structures as pcs\n",
    "import pyscal.csystem as pcm\n",
    "import pyscal.core as pc\n",
    "from ase import atoms\n",
    "from ase.io import read, write\n",
    "from ase.build import bulk\n",
    "import numpy as np\n",
    "import matplotlib.pyplot as plt"
   ]
  },
  {
   "cell_type": "code",
   "execution_count": 2,
   "id": "alert-agreement",
   "metadata": {},
   "outputs": [
    {
     "name": "stdout",
     "output_type": "stream",
     "text": [
      "2000\n"
     ]
    }
   ],
   "source": [
    "nx = 10\n",
    "satoms, box = pcs.make_crystal(structure='bcc', \n",
    "    lattice_constant=3.127, \n",
    "    repetitions=(nx,nx,nx),)\n",
    "print(len(satoms[\"positions\"]))\n",
    "sys = pc.System()\n",
    "sys.box = box\n",
    "sys.atoms = satoms\n"
   ]
  },
  {
   "cell_type": "code",
   "execution_count": 3,
   "id": "d2535ada-ee04-4bbf-a312-cfc3e1d546ab",
   "metadata": {},
   "outputs": [],
   "source": [
    "sys.find_neighbors(method=\"cutoff\", \n",
    "                   cutoff=3.6)"
   ]
  },
  {
   "cell_type": "code",
   "execution_count": 10,
   "id": "c29a7c09-86dd-45e2-a6bc-a75a516d050c",
   "metadata": {},
   "outputs": [],
   "source": [
    "theta_arr = sys.atoms[\"theta\"][0]\n",
    "phi_arr = sys.atoms[\"phi\"][0]"
   ]
  },
  {
   "cell_type": "code",
   "execution_count": 115,
   "id": "f863de1c-c731-4f0b-9dc0-58a3784014c1",
   "metadata": {},
   "outputs": [],
   "source": [
    "xx = pcm.calculate_q_atom(4, [0.9553166181245093], [0.7853981633974483])"
   ]
  },
  {
   "cell_type": "code",
   "execution_count": 12,
   "id": "3cba70ff-7bb2-48a4-967c-c20ccaffb10f",
   "metadata": {},
   "outputs": [],
   "source": [
    "from scipy.special import sph_harm"
   ]
  },
  {
   "cell_type": "code",
   "execution_count": 229,
   "id": "8273ce0d-969a-4328-88fd-ed46dbef8002",
   "metadata": {},
   "outputs": [],
   "source": [
    "def calc_sph(atoms, l=2):\n",
    "    theta = np.array(sys.atoms[\"theta\"])\n",
    "    phi = np.array(sys.atoms[\"phi\"])\n",
    "    shs = []\n",
    "    sh = sph_harm(0, l, phi, theta)\n",
    "    shs.append(np.mean(sh, axis=1))\n",
    "    for m in range(1, l+1):\n",
    "        sh = sph_harm(m, l, phi, theta)\n",
    "        shs.append(np.mean(sh, axis=1))\n",
    "        sh = sh*(-1)**(-m)\n",
    "        shs.append(np.mean(sh, axis=1))\n",
    "    shs = np.array(shs)\n",
    "    q_real = np.real(shs)\n",
    "    q_imag = np.imag(shs)\n",
    "    shs_sum = np.sum(q_real**2, axis=0) + np.sum(q_imag**2, axis=0)\n",
    "    factor = (4.0*np.pi/(2*l+1))\n",
    "    qval = (factor*shs_sum)**0.5\n",
    "    \n",
    "    return qval, q_real, q_imag"
   ]
  },
  {
   "cell_type": "code",
   "execution_count": 230,
   "id": "31c124a0-6923-4914-88bd-787621f23846",
   "metadata": {},
   "outputs": [
    {
     "name": "stdout",
     "output_type": "stream",
     "text": [
      "79.5 ms ± 1.46 ms per loop (mean ± std. dev. of 7 runs, 10 loops each)\n"
     ]
    }
   ],
   "source": [
    "%%timeit\n",
    "shs = calc_sph(sys.atoms, l=12)"
   ]
  },
  {
   "cell_type": "code",
   "execution_count": null,
   "id": "1f13953e-7f4d-41b5-80fa-5bd31402a722",
   "metadata": {},
   "outputs": [],
   "source": []
  }
 ],
 "metadata": {
  "kernelspec": {
   "display_name": "pyscal-test",
   "language": "python",
   "name": "pyscal-test"
  },
  "language_info": {
   "codemirror_mode": {
    "name": "ipython",
    "version": 3
   },
   "file_extension": ".py",
   "mimetype": "text/x-python",
   "name": "python",
   "nbconvert_exporter": "python",
   "pygments_lexer": "ipython3",
   "version": "3.10.1"
  }
 },
 "nbformat": 4,
 "nbformat_minor": 5
}
