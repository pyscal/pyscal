{
 "cells": [
  {
   "cell_type": "code",
   "execution_count": 1,
   "id": "liquid-concert",
   "metadata": {},
   "outputs": [],
   "source": [
    "import pyscal.crystal_structures as pcs\n",
    "import pyscal.csystem as pcm\n",
    "import pyscal.core as pc\n",
    "from ase import atoms\n",
    "from ase.io import read, write\n",
    "from ase.build import bulk\n",
    "import numpy as np\n",
    "import matplotlib.pyplot as plt"
   ]
  },
  {
   "cell_type": "code",
   "execution_count": 2,
   "id": "alert-agreement",
   "metadata": {},
   "outputs": [],
   "source": [
    "satoms, box = pcs.make_crystal(structure='bcc', \n",
    "                              lattice_constant=3.127, \n",
    "                            repetitions=(20,20,20),)"
   ]
  },
  {
   "cell_type": "code",
   "execution_count": 3,
   "id": "38953c37-06f8-4fc7-b35c-4c0767e31b71",
   "metadata": {},
   "outputs": [],
   "source": [
    "sys = pc.System()\n",
    "sys.box = box\n",
    "sys.atoms = satoms"
   ]
  },
  {
   "cell_type": "code",
   "execution_count": null,
   "id": "domestic-termination",
   "metadata": {},
   "outputs": [],
   "source": [
    "sys.find_neighbors(method=\"number\")"
   ]
  },
  {
   "cell_type": "code",
   "execution_count": null,
   "id": "d2535ada-ee04-4bbf-a312-cfc3e1d546ab",
   "metadata": {},
   "outputs": [],
   "source": [
    "sys.neighbors[0]"
   ]
  },
  {
   "cell_type": "code",
   "execution_count": null,
   "id": "229e53f6-e6d1-4a17-bb76-2d57bb01e49e",
   "metadata": {},
   "outputs": [],
   "source": []
  }
 ],
 "metadata": {
  "kernelspec": {
   "display_name": "pyscal-test",
   "language": "python",
   "name": "pyscal-test"
  },
  "language_info": {
   "codemirror_mode": {
    "name": "ipython",
    "version": 3
   },
   "file_extension": ".py",
   "mimetype": "text/x-python",
   "name": "python",
   "nbconvert_exporter": "python",
   "pygments_lexer": "ipython3",
   "version": "3.10.1"
  }
 },
 "nbformat": 4,
 "nbformat_minor": 5
}
