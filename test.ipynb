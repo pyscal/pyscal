{
 "cells": [
  {
   "cell_type": "code",
   "execution_count": 1,
   "id": "liquid-concert",
   "metadata": {},
   "outputs": [],
   "source": [
    "import pyscal.crystal_structures as pcs\n",
    "import pyscal.csystem as pcm\n",
    "import pyscal.core as pc\n",
    "from ase import atoms\n",
    "from ase.io import read, write\n",
    "from ase.build import bulk\n",
    "import numpy as np\n",
    "import matplotlib.pyplot as plt"
   ]
  },
  {
   "cell_type": "code",
   "execution_count": 2,
   "id": "alert-agreement",
   "metadata": {},
   "outputs": [
    {
     "name": "stdout",
     "output_type": "stream",
     "text": [
      "2000\n"
     ]
    }
   ],
   "source": [
    "nx = 10\n",
    "satoms, box = pcs.make_crystal(structure='bcc', \n",
    "    lattice_constant=3.127, \n",
    "    repetitions=(nx,nx,nx),)\n",
    "print(len(satoms[\"positions\"]))\n",
    "sys = pc.System()\n",
    "sys.box = box\n",
    "sys.atoms = satoms\n"
   ]
  },
  {
   "cell_type": "code",
   "execution_count": 3,
   "id": "d2535ada-ee04-4bbf-a312-cfc3e1d546ab",
   "metadata": {},
   "outputs": [],
   "source": [
    "sys.find_neighbors(method=\"cutoff\", \n",
    "                   cutoff=3.6)"
   ]
  },
  {
   "cell_type": "code",
   "execution_count": 31,
   "id": "c718de03-a8f2-4d20-8715-07edc09f83c1",
   "metadata": {},
   "outputs": [],
   "source": [
    "qlist = [2, 3, 4, 5, 6, 7, 8, 9, 10, 11, 12, 13, 14, 15, 16, 17, 18, 19, \n",
    "         20, 21, 22, 23, 24, 25, 26, 27, 28, 29, 30,\n",
    "        31, 32, 33, 34, 35, 36, 37, 38, 39, 40,\n",
    "        41, 42, 43, 44, 45, 46, 47, 48, 49, 50]"
   ]
  },
  {
   "cell_type": "code",
   "execution_count": 32,
   "id": "1f13953e-7f4d-41b5-80fa-5bd31402a722",
   "metadata": {},
   "outputs": [
    {
     "name": "stdout",
     "output_type": "stream",
     "text": [
      "18.3 s ± 114 ms per loop (mean ± std. dev. of 7 runs, 1 loop each)\n"
     ]
    }
   ],
   "source": [
    "%%timeit\n",
    "sys.calculate_q(qlist, use_c=False)"
   ]
  },
  {
   "cell_type": "code",
   "execution_count": 33,
   "id": "dffc697d-c177-4494-9cea-296728b3e3c7",
   "metadata": {},
   "outputs": [
    {
     "name": "stdout",
     "output_type": "stream",
     "text": [
      "13.1 s ± 231 ms per loop (mean ± std. dev. of 7 runs, 1 loop each)\n"
     ]
    }
   ],
   "source": [
    "%%timeit\n",
    "sys.calculate_q(qlist, use_c=True)"
   ]
  },
  {
   "cell_type": "code",
   "execution_count": 34,
   "id": "1e8dfe16-706e-41de-b271-7b93f345df3b",
   "metadata": {},
   "outputs": [
    {
     "data": {
      "text/plain": [
       "dict_keys(['positions', 'ids', 'types', 'ghost', 'neighbors', 'neighbor_dist', 'temp_neighbors', 'temp_neighbordist', 'neighborweight', 'diff', 'r', 'theta', 'phi', 'cutoff', 'neighbordist', 'q2', 'q2_real', 'q2_imag', 'q0', 'q0_real', 'q0_imag', 'q1', 'q1_real', 'q1_imag', 'q3', 'q3_real', 'q3_imag', 'q4', 'q4_real', 'q4_imag', 'q5', 'q5_real', 'q5_imag', 'q6', 'q6_real', 'q6_imag', 'q7', 'q7_real', 'q7_imag', 'q8', 'q8_real', 'q8_imag', 'q9', 'q9_real', 'q9_imag', 'q10', 'q10_real', 'q10_imag', 'q11', 'q11_real', 'q11_imag', 'q12', 'q12_real', 'q12_imag', 'q13', 'q13_real', 'q13_imag', 'q14', 'q14_real', 'q14_imag', 'q15', 'q15_real', 'q15_imag', 'q16', 'q16_real', 'q16_imag', 'q17', 'q17_real', 'q17_imag', 'q18', 'q18_real', 'q18_imag', 'q19', 'q19_real', 'q19_imag', 'q20', 'q20_real', 'q20_imag', 'q21', 'q21_real', 'q21_imag', 'q22', 'q22_real', 'q22_imag', 'q23', 'q23_real', 'q23_imag', 'q24', 'q24_real', 'q24_imag', 'q25', 'q25_real', 'q25_imag', 'q26', 'q26_real', 'q26_imag', 'q27', 'q27_real', 'q27_imag', 'q28', 'q28_real', 'q28_imag', 'q29', 'q29_real', 'q29_imag', 'q30', 'q30_real', 'q30_imag', 'q31', 'q31_real', 'q31_imag', 'q32', 'q32_real', 'q32_imag', 'q33', 'q33_real', 'q33_imag', 'q34', 'q34_real', 'q34_imag', 'q35', 'q35_real', 'q35_imag', 'q36', 'q36_real', 'q36_imag', 'q37', 'q37_real', 'q37_imag', 'q38', 'q38_real', 'q38_imag', 'q39', 'q39_real', 'q39_imag', 'q40', 'q40_real', 'q40_imag', 'q41', 'q41_real', 'q41_imag', 'q42', 'q42_real', 'q42_imag', 'q43', 'q43_real', 'q43_imag', 'q44', 'q44_real', 'q44_imag', 'q45', 'q45_real', 'q45_imag', 'q46', 'q46_real', 'q46_imag', 'q47', 'q47_real', 'q47_imag', 'q48', 'q48_real', 'q48_imag', 'q49', 'q49_real', 'q49_imag', 'q50', 'q50_real', 'q50_imag'])"
      ]
     },
     "execution_count": 34,
     "metadata": {},
     "output_type": "execute_result"
    }
   ],
   "source": [
    "sys.atoms.keys()"
   ]
  },
  {
   "cell_type": "code",
   "execution_count": null,
   "id": "d3810b40-9f16-415d-b3e1-f9db37f9cace",
   "metadata": {},
   "outputs": [],
   "source": []
  }
 ],
 "metadata": {
  "kernelspec": {
   "display_name": "pyscal-test",
   "language": "python",
   "name": "pyscal-test"
  },
  "language_info": {
   "codemirror_mode": {
    "name": "ipython",
    "version": 3
   },
   "file_extension": ".py",
   "mimetype": "text/x-python",
   "name": "python",
   "nbconvert_exporter": "python",
   "pygments_lexer": "ipython3",
   "version": "3.10.1"
  }
 },
 "nbformat": 4,
 "nbformat_minor": 5
}
