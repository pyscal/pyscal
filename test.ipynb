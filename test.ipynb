{
 "cells": [
  {
   "cell_type": "code",
   "execution_count": 1,
   "id": "liquid-concert",
   "metadata": {},
   "outputs": [],
   "source": [
    "import pyscal.crystal_structures as pcs\n",
    "import pyscal.csystem as pcm\n",
    "import pyscal.core as pc\n",
    "from ase import atoms\n",
    "from ase.io import read, write\n",
    "from ase.build import bulk\n",
    "import numpy as np\n",
    "import matplotlib.pyplot as plt"
   ]
  },
  {
   "cell_type": "code",
   "execution_count": 2,
   "id": "alert-agreement",
   "metadata": {},
   "outputs": [
    {
     "name": "stdout",
     "output_type": "stream",
     "text": [
      "2\n"
     ]
    }
   ],
   "source": [
    "nx = 1\n",
    "satoms, box = pcs.make_crystal(structure='bcc', \n",
    "    lattice_constant=3.127, \n",
    "    repetitions=(nx,nx,nx),)\n",
    "print(len(satoms[\"positions\"]))\n",
    "sys = pc.System()"
   ]
  },
  {
   "cell_type": "code",
   "execution_count": 6,
   "id": "58b9b408-fe56-49fb-ae86-f13490c2ce55",
   "metadata": {},
   "outputs": [],
   "source": [
    "satoms['positions'][1] = [-1.5635, -1.5635, -1.5635]"
   ]
  },
  {
   "cell_type": "code",
   "execution_count": 7,
   "id": "613286a8-d005-4b21-809d-aa6ef6037a96",
   "metadata": {},
   "outputs": [
    {
     "data": {
      "text/plain": [
       "{'positions': [[0.0, 0.0, 0.0], [-1.5635, -1.5635, -1.5635]],\n",
       " 'ids': [1, 2],\n",
       " 'types': [1, 1],\n",
       " 'ghost': [False, False]}"
      ]
     },
     "execution_count": 7,
     "metadata": {},
     "output_type": "execute_result"
    }
   ],
   "source": [
    "satoms"
   ]
  },
  {
   "cell_type": "code",
   "execution_count": 8,
   "id": "c2f361df-c1a5-413c-a3eb-964b4184b80b",
   "metadata": {},
   "outputs": [],
   "source": [
    "sys.box = box\n",
    "sys.atoms = satoms"
   ]
  },
  {
   "cell_type": "code",
   "execution_count": 16,
   "id": "5db77910-7fa5-4faf-8999-3064286a8088",
   "metadata": {},
   "outputs": [],
   "source": [
    "a = bulk('Mo')\n",
    "sys = pc.System()\n",
    "sys.read_inputfile(a, format=\"ase\")"
   ]
  },
  {
   "cell_type": "code",
   "execution_count": 18,
   "id": "061bb917-ce22-4877-a1e2-7505ccea1b4f",
   "metadata": {},
   "outputs": [
    {
     "data": {
      "text/plain": [
       "array([[-1.575,  1.575,  1.575],\n",
       "       [ 1.575, -1.575,  1.575],\n",
       "       [ 1.575,  1.575, -1.575]])"
      ]
     },
     "execution_count": 18,
     "metadata": {},
     "output_type": "execute_result"
    }
   ],
   "source": [
    "sys.box"
   ]
  },
  {
   "cell_type": "code",
   "execution_count": 22,
   "id": "a78902ed-ff52-4420-b25a-5a5f7ffb524c",
   "metadata": {},
   "outputs": [
    {
     "data": {
      "text/plain": [
       "[-1.575, -1.575, -1.575]"
      ]
     },
     "execution_count": 22,
     "metadata": {},
     "output_type": "execute_result"
    }
   ],
   "source": [
    "[-1.575, -1.575, -1.575]"
   ]
  },
  {
   "cell_type": "code",
   "execution_count": 17,
   "id": "ddea6767-a77b-4558-8b62-ce6f9b54ff8c",
   "metadata": {},
   "outputs": [
    {
     "data": {
      "text/plain": [
       "[8.183940065762943, 8.183940065762943, 8.183940065762943]"
      ]
     },
     "execution_count": 17,
     "metadata": {},
     "output_type": "execute_result"
    }
   ],
   "source": [
    "sys.boxdims"
   ]
  },
  {
   "cell_type": "code",
   "execution_count": 23,
   "id": "654a496a-ca46-4f14-af2f-0b06f8b05d04",
   "metadata": {},
   "outputs": [
    {
     "data": {
      "text/plain": [
       "[3.1499999999999995, 3.1499999999999995, 3.1499999999999995]"
      ]
     },
     "execution_count": 23,
     "metadata": {},
     "output_type": "execute_result"
    }
   ],
   "source": [
    "pcm.remap_atom_into_box([-1.575, -1.575, -1.575], \n",
    "    1, \n",
    "    sys.rot, \n",
    "    sys.rotinv,\n",
    "    sys.boxdims)"
   ]
  },
  {
   "cell_type": "code",
   "execution_count": 24,
   "id": "ddd3a6bd-0ce2-4e4c-9ef2-cc370eac9a51",
   "metadata": {},
   "outputs": [
    {
     "data": {
      "text/plain": [
       "[array([0., 0., 0.]),\n",
       " array([-1.575, -1.575, -1.575]),\n",
       " array([ 0.  ,  0.  , -3.15]),\n",
       " array([ 1.575,  1.575, -4.725]),\n",
       " array([ 0.  , -3.15,  0.  ]),\n",
       " array([ 1.575, -1.575, -1.575]),\n",
       " array([ 3.15,  0.  , -3.15]),\n",
       " array([ 1.575, -4.725,  1.575]),\n",
       " array([ 3.15, -3.15,  0.  ]),\n",
       " array([ 4.725, -1.575, -1.575]),\n",
       " array([-3.15,  0.  ,  0.  ]),\n",
       " array([-1.575,  1.575, -1.575]),\n",
       " array([ 0.  ,  3.15, -3.15]),\n",
       " array([-1.575, -1.575,  1.575]),\n",
       " array([ 1.575,  1.575, -1.575]),\n",
       " array([ 0.  , -3.15,  3.15]),\n",
       " array([ 1.575, -1.575,  1.575]),\n",
       " array([3.15, 0.  , 0.  ]),\n",
       " array([-4.725,  1.575,  1.575]),\n",
       " array([-3.15,  3.15,  0.  ]),\n",
       " array([-1.575,  4.725, -1.575]),\n",
       " array([-3.15,  0.  ,  3.15]),\n",
       " array([-1.575,  1.575,  1.575]),\n",
       " array([0.  , 3.15, 0.  ]),\n",
       " array([-1.575, -1.575,  4.725]),\n",
       " array([0.  , 0.  , 3.15]),\n",
       " array([1.575, 1.575, 1.575])]"
      ]
     },
     "execution_count": 24,
     "metadata": {},
     "output_type": "execute_result"
    }
   ],
   "source": [
    "sys.atoms[\"positions\"]"
   ]
  },
  {
   "cell_type": "code",
   "execution_count": 14,
   "id": "d2817971-ea27-4f14-8bd8-b0897681ecd1",
   "metadata": {},
   "outputs": [
    {
     "data": {
      "text/plain": [
       "1.5634999999999994"
      ]
     },
     "execution_count": 14,
     "metadata": {},
     "output_type": "execute_result"
    }
   ],
   "source": [
    "9.381-7.817500000000001"
   ]
  },
  {
   "cell_type": "markdown",
   "id": "5b516ca9-626a-4a99-bce9-4f12a321be8b",
   "metadata": {},
   "source": [
    "Try a fully python numpy based algorithm for finding nearest neighbor"
   ]
  },
  {
   "cell_type": "code",
   "execution_count": 10,
   "id": "8c20c942-8023-4425-b507-6e6a65e8e425",
   "metadata": {},
   "outputs": [],
   "source": [
    "def get_distance(x, box, dim=3):\n",
    "    box_2 = box/2\n",
    "    xdum = []\n",
    "    for i in range(dim):\n",
    "        xd = np.meshgrid(x[i], x[i])[1] - np.meshgrid(x[i], x[i])[0]\n",
    "        xdum.append(xd)\n",
    "    xd = np.array(xdum)\n",
    "    for i in range(dim):\n",
    "        xd[i] = np.where(xd[i] > box_2[i], xd[i]-box[i], xd[i])\n",
    "        xd[i] = np.where(xd[i] < -box_2[i], xd[i]+box[i], xd[i])\n",
    "    return xd"
   ]
  },
  {
   "cell_type": "code",
   "execution_count": 12,
   "id": "73b78891-ef91-45f0-aba1-1e8be0fc187f",
   "metadata": {},
   "outputs": [],
   "source": [
    "x = sys.atoms['positions']\n",
    "box = sys.boxdims"
   ]
  },
  {
   "cell_type": "code",
   "execution_count": 16,
   "id": "6337c594-f8ca-447d-8277-f86987ce3e21",
   "metadata": {},
   "outputs": [],
   "source": [
    "x = np.array(x)"
   ]
  },
  {
   "cell_type": "code",
   "execution_count": 20,
   "id": "ed395d26-9344-4ca1-acd4-5ae7a8949748",
   "metadata": {},
   "outputs": [],
   "source": [
    "y = x.T"
   ]
  },
  {
   "cell_type": "code",
   "execution_count": 28,
   "id": "9d26f239-c648-4454-b45d-4fbede636145",
   "metadata": {},
   "outputs": [
    {
     "name": "stdout",
     "output_type": "stream",
     "text": [
      "224 ms ± 857 µs per loop (mean ± std. dev. of 7 runs, 1 loop each)\n"
     ]
    }
   ],
   "source": [
    "%%timeit\n",
    "xd = get_distance(y, np.array(box))"
   ]
  },
  {
   "cell_type": "code",
   "execution_count": 27,
   "id": "0eb9ab1c-921e-48a2-a753-8eb9d04371c2",
   "metadata": {},
   "outputs": [
    {
     "data": {
      "text/plain": [
       "(3, 2000, 2000)"
      ]
     },
     "execution_count": 27,
     "metadata": {},
     "output_type": "execute_result"
    }
   ],
   "source": [
    "xd.shape"
   ]
  },
  {
   "cell_type": "code",
   "execution_count": 23,
   "id": "5c35e8a0-4e7c-48fc-a7d2-e7a348d2896c",
   "metadata": {
    "collapsed": true,
    "jupyter": {
     "outputs_hidden": true
    },
    "tags": []
   },
   "outputs": [
    {
     "data": {
      "text/plain": [
       "array([[[ 0.    , -1.5635,  0.    , ...,  1.5635,  3.127 ,  1.5635],\n",
       "        [ 1.5635,  0.    ,  1.5635, ...,  3.127 ,  4.6905,  3.127 ],\n",
       "        [ 0.    , -1.5635,  0.    , ...,  1.5635,  3.127 ,  1.5635],\n",
       "        ...,\n",
       "        [-1.5635, -3.127 , -1.5635, ...,  0.    ,  1.5635,  0.    ],\n",
       "        [-3.127 , -4.6905, -3.127 , ..., -1.5635,  0.    , -1.5635],\n",
       "        [-1.5635, -3.127 , -1.5635, ...,  0.    ,  1.5635,  0.    ]],\n",
       "\n",
       "       [[ 0.    , -1.5635,  0.    , ...,  1.5635,  3.127 ,  1.5635],\n",
       "        [ 1.5635,  0.    ,  1.5635, ...,  3.127 ,  4.6905,  3.127 ],\n",
       "        [ 0.    , -1.5635,  0.    , ...,  1.5635,  3.127 ,  1.5635],\n",
       "        ...,\n",
       "        [-1.5635, -3.127 , -1.5635, ...,  0.    ,  1.5635,  0.    ],\n",
       "        [-3.127 , -4.6905, -3.127 , ..., -1.5635,  0.    , -1.5635],\n",
       "        [-1.5635, -3.127 , -1.5635, ...,  0.    ,  1.5635,  0.    ]],\n",
       "\n",
       "       [[ 0.    , -1.5635, -3.127 , ...,  4.6905,  3.127 ,  1.5635],\n",
       "        [ 1.5635,  0.    , -1.5635, ...,  6.254 ,  4.6905,  3.127 ],\n",
       "        [ 3.127 ,  1.5635,  0.    , ...,  7.8175,  6.254 ,  4.6905],\n",
       "        ...,\n",
       "        [-4.6905, -6.254 , -7.8175, ...,  0.    , -1.5635, -3.127 ],\n",
       "        [-3.127 , -4.6905, -6.254 , ...,  1.5635,  0.    , -1.5635],\n",
       "        [-1.5635, -3.127 , -4.6905, ...,  3.127 ,  1.5635,  0.    ]]])"
      ]
     },
     "execution_count": 23,
     "metadata": {},
     "output_type": "execute_result"
    }
   ],
   "source": [
    "np.where(xd[]"
   ]
  },
  {
   "cell_type": "code",
   "execution_count": null,
   "id": "7669c585-0a71-47dd-9f02-a2d8c50f526f",
   "metadata": {},
   "outputs": [],
   "source": []
  }
 ],
 "metadata": {
  "kernelspec": {
   "display_name": "Python 3 (ipykernel)",
   "language": "python",
   "name": "python3"
  },
  "language_info": {
   "codemirror_mode": {
    "name": "ipython",
    "version": 3
   },
   "file_extension": ".py",
   "mimetype": "text/x-python",
   "name": "python",
   "nbconvert_exporter": "python",
   "pygments_lexer": "ipython3",
   "version": "3.10.2"
  }
 },
 "nbformat": 4,
 "nbformat_minor": 5
}
