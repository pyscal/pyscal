{
 "cells": [
  {
   "cell_type": "code",
   "execution_count": 4,
   "id": "liquid-concert",
   "metadata": {},
   "outputs": [],
   "source": [
    "import pyscal.crystal_structures as pcs\n",
    "import pyscal.csystem as pcm\n",
    "import pyscal.core as pc\n",
    "from ase import atoms\n",
    "from ase.io import read, write\n",
    "from ase.build import bulk\n",
    "import numpy as np\n",
    "import matplotlib.pyplot as plt"
   ]
  },
  {
   "cell_type": "code",
   "execution_count": 5,
   "id": "alert-agreement",
   "metadata": {},
   "outputs": [],
   "source": [
    "satoms, box = pcs.make_crystal(structure='bcc', \n",
    "                              lattice_constant=3.127, \n",
    "                            repetitions=(10,10,10),)\n",
    "sys = pc.System()\n",
    "sys.box = box\n",
    "sys.atoms = satoms"
   ]
  },
  {
   "cell_type": "code",
   "execution_count": 17,
   "id": "d2535ada-ee04-4bbf-a312-cfc3e1d546ab",
   "metadata": {},
   "outputs": [],
   "source": [
    "sys.find_neighbors(method=\"number\", nmax=8)"
   ]
  },
  {
   "cell_type": "code",
   "execution_count": 18,
   "id": "229e53f6-e6d1-4a17-bb76-2d57bb01e49e",
   "metadata": {},
   "outputs": [
    {
     "data": {
      "text/plain": [
       "[2.7080614376339356,\n",
       " 2.708061437633937,\n",
       " 2.708061437633937,\n",
       " 2.708061437633937,\n",
       " 2.7080614376339383,\n",
       " 2.7080614376339383,\n",
       " 2.7080614376339383,\n",
       " 2.708061437633939]"
      ]
     },
     "execution_count": 18,
     "metadata": {},
     "output_type": "execute_result"
    }
   ],
   "source": [
    "sys.neighbordist[0]"
   ]
  },
  {
   "cell_type": "code",
   "execution_count": null,
   "id": "8dee42a0-1436-4676-9569-8b0bbfc11505",
   "metadata": {},
   "outputs": [],
   "source": []
  }
 ],
 "metadata": {
  "kernelspec": {
   "display_name": "pyscal-test",
   "language": "python",
   "name": "pyscal-test"
  },
  "language_info": {
   "codemirror_mode": {
    "name": "ipython",
    "version": 3
   },
   "file_extension": ".py",
   "mimetype": "text/x-python",
   "name": "python",
   "nbconvert_exporter": "python",
   "pygments_lexer": "ipython3",
   "version": "3.10.1"
  }
 },
 "nbformat": 4,
 "nbformat_minor": 5
}
