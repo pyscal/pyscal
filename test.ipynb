{
 "cells": [
  {
   "cell_type": "code",
   "execution_count": 1,
   "id": "liquid-concert",
   "metadata": {},
   "outputs": [],
   "source": [
    "import pyscal.crystal_structures as pcs\n",
    "import pyscal.csystem as pcm\n",
    "import pyscal.core as pc\n",
    "from ase import atoms\n",
    "from ase.io import read, write\n",
    "from ase.build import bulk\n",
    "import numpy as np\n",
    "import matplotlib.pyplot as plt\n",
    "from scipy.spatial import Voronoi, voronoi_plot_2d"
   ]
  },
  {
   "cell_type": "code",
   "execution_count": 2,
   "id": "15241cfd-dc65-4f52-a669-90196d89e6b2",
   "metadata": {},
   "outputs": [],
   "source": [
    "from ase.io import read\n",
    "structure = read(\"POSCAR_bcc2\",format='vasp')\n",
    "#structure = read(\"sigma5_310.data\",style='atomic',format='lammps-data')\n",
    "\n",
    "sys = pc.System()\n",
    "sys.read_inputfile(structure,format='ase')"
   ]
  },
  {
   "cell_type": "code",
   "execution_count": 2,
   "id": "9eb6edbb-6e56-42fd-837a-fd13d6a3347d",
   "metadata": {},
   "outputs": [],
   "source": [
    "atoms, box = pcs.make_crystal(structure=\"bcc\")"
   ]
  },
  {
   "cell_type": "code",
   "execution_count": 3,
   "id": "9da76c4e-d3a9-4f26-a35c-4cca76899e2a",
   "metadata": {},
   "outputs": [],
   "source": [
    "sys = pc.System()\n",
    "sys.box = box\n",
    "sys.atoms = atoms"
   ]
  },
  {
   "cell_type": "code",
   "execution_count": 4,
   "id": "1ce6f7cf-67a7-487d-abd8-65b30e7bcd61",
   "metadata": {},
   "outputs": [],
   "source": [
    "sys.find_neighbors(method='voronoi', cutoff=0.1)"
   ]
  },
  {
   "cell_type": "code",
   "execution_count": 5,
   "id": "f9989616-ac78-40d5-a2ac-c8215c4c3290",
   "metadata": {},
   "outputs": [
    {
     "data": {
      "text/plain": [
       "12"
      ]
     },
     "execution_count": 5,
     "metadata": {},
     "output_type": "execute_result"
    }
   ],
   "source": [
    "len(sys.atoms[\"vertex_positions_unique\"])"
   ]
  },
  {
   "cell_type": "code",
   "execution_count": 6,
   "id": "e5ef453b-85ad-409b-8a7f-8dae864279b2",
   "metadata": {
    "tags": []
   },
   "outputs": [],
   "source": [
    "with open(\"aa.dat\", \"w\") as fout:\n",
    "    for v in sys.atoms[\"vertex_positions_unique\"]:\n",
    "        v = \" \".join(np.array(v).astype(str))\n",
    "        fout.write(v)\n",
    "        fout.write('\\n')"
   ]
  },
  {
   "cell_type": "code",
   "execution_count": null,
   "id": "6ea926fb-d58f-4717-9c1f-d30feda8af47",
   "metadata": {},
   "outputs": [],
   "source": []
  },
  {
   "cell_type": "code",
   "execution_count": null,
   "id": "49db6466-868b-482b-8653-b0dffa6ef8b5",
   "metadata": {},
   "outputs": [],
   "source": []
  },
  {
   "cell_type": "code",
   "execution_count": 5,
   "id": "5bdf9419-9087-4c45-a884-5f985b34424f",
   "metadata": {},
   "outputs": [],
   "source": [
    "vor = Voronoi(sys.positions)"
   ]
  },
  {
   "cell_type": "code",
   "execution_count": 6,
   "id": "3900ad7c-dbbe-4dfb-8bd9-78cb6d2c056e",
   "metadata": {},
   "outputs": [
    {
     "data": {
      "text/plain": [
       "24"
      ]
     },
     "execution_count": 6,
     "metadata": {},
     "output_type": "execute_result"
    }
   ],
   "source": [
    "len(vor.vertices)"
   ]
  },
  {
   "cell_type": "code",
   "execution_count": null,
   "id": "daa6d35a-8e57-44ac-9448-252ba49105dc",
   "metadata": {},
   "outputs": [],
   "source": [
    "abs(a-b) <= max( rel_tol * max(abs(a), abs(b)), abs_tol )"
   ]
  },
  {
   "cell_type": "code",
   "execution_count": 4,
   "id": "fc1981ff-c4ca-457b-92d3-1004eef3b7d5",
   "metadata": {},
   "outputs": [],
   "source": [
    "sys.to_file(\"a1.dat\")"
   ]
  },
  {
   "cell_type": "code",
   "execution_count": 5,
   "id": "6f41895c-fde7-4e57-9a49-b33dce51d575",
   "metadata": {},
   "outputs": [
    {
     "name": "stdout",
     "output_type": "stream",
     "text": [
      "250\n",
      "displaced 250\n",
      "[15.634999999999998, 0, 0]\n",
      "[31.27  0.    0.  ]\n",
      "500\n",
      "displaced 500\n",
      "[0, 15.634999999999998, 0]\n",
      "[ 0.   31.27  0.  ]\n",
      "1000\n",
      "displaced 1000\n",
      "[0, 0, 15.634999999999998]\n",
      "[ 0.    0.   31.27]\n",
      "here\n",
      "[array([31.27,  0.  ,  0.  ]), array([ 0.  , 31.27,  0.  ]), array([ 0.  ,  0.  , 31.27])]\n",
      "[[15.634999999999998, 0, 0], [0, 15.634999999999998, 0], [0, 0, 15.634999999999998]]\n"
     ]
    }
   ],
   "source": [
    "sys.repeat([0.5,0.5,0.5])"
   ]
  },
  {
   "cell_type": "code",
   "execution_count": 6,
   "id": "72f2eeae-c958-4638-858d-24e234ac8203",
   "metadata": {},
   "outputs": [],
   "source": [
    "sys.to_file(\"a2.dat\")"
   ]
  },
  {
   "cell_type": "code",
   "execution_count": 16,
   "id": "5db77910-7fa5-4faf-8999-3064286a8088",
   "metadata": {},
   "outputs": [],
   "source": [
    "a = bulk('Mo')\n",
    "sys = pc.System()\n",
    "sys.read_inputfile(a, format=\"ase\")"
   ]
  },
  {
   "cell_type": "code",
   "execution_count": 18,
   "id": "061bb917-ce22-4877-a1e2-7505ccea1b4f",
   "metadata": {},
   "outputs": [
    {
     "data": {
      "text/plain": [
       "array([[-1.575,  1.575,  1.575],\n",
       "       [ 1.575, -1.575,  1.575],\n",
       "       [ 1.575,  1.575, -1.575]])"
      ]
     },
     "execution_count": 18,
     "metadata": {},
     "output_type": "execute_result"
    }
   ],
   "source": [
    "sys.box"
   ]
  },
  {
   "cell_type": "code",
   "execution_count": 22,
   "id": "a78902ed-ff52-4420-b25a-5a5f7ffb524c",
   "metadata": {},
   "outputs": [
    {
     "data": {
      "text/plain": [
       "[-1.575, -1.575, -1.575]"
      ]
     },
     "execution_count": 22,
     "metadata": {},
     "output_type": "execute_result"
    }
   ],
   "source": [
    "[-1.575, -1.575, -1.575]"
   ]
  },
  {
   "cell_type": "code",
   "execution_count": 17,
   "id": "ddea6767-a77b-4558-8b62-ce6f9b54ff8c",
   "metadata": {},
   "outputs": [
    {
     "data": {
      "text/plain": [
       "[8.183940065762943, 8.183940065762943, 8.183940065762943]"
      ]
     },
     "execution_count": 17,
     "metadata": {},
     "output_type": "execute_result"
    }
   ],
   "source": [
    "sys.boxdims"
   ]
  },
  {
   "cell_type": "code",
   "execution_count": 23,
   "id": "654a496a-ca46-4f14-af2f-0b06f8b05d04",
   "metadata": {},
   "outputs": [
    {
     "data": {
      "text/plain": [
       "[3.1499999999999995, 3.1499999999999995, 3.1499999999999995]"
      ]
     },
     "execution_count": 23,
     "metadata": {},
     "output_type": "execute_result"
    }
   ],
   "source": [
    "pcm.remap_atom_into_box([-1.575, -1.575, -1.575], \n",
    "    1, \n",
    "    sys.rot, \n",
    "    sys.rotinv,\n",
    "    sys.boxdims)"
   ]
  },
  {
   "cell_type": "code",
   "execution_count": 26,
   "id": "ddd3a6bd-0ce2-4e4c-9ef2-cc370eac9a51",
   "metadata": {},
   "outputs": [],
   "source": [
    "datadict = {key:[] for key in sys.atoms.keys()}"
   ]
  },
  {
   "cell_type": "code",
   "execution_count": 27,
   "id": "28e6b183-a865-4c63-8831-985b6982f2b7",
   "metadata": {},
   "outputs": [
    {
     "data": {
      "text/plain": [
       "{'positions': [],\n",
       " 'ids': [],\n",
       " 'types': [],\n",
       " 'species': [],\n",
       " 'ghost': [],\n",
       " 'mask_1': [],\n",
       " 'mask_2': [],\n",
       " 'condition': [],\n",
       " 'head': []}"
      ]
     },
     "execution_count": 27,
     "metadata": {},
     "output_type": "execute_result"
    }
   ],
   "source": [
    "datadict"
   ]
  },
  {
   "cell_type": "markdown",
   "id": "5b516ca9-626a-4a99-bce9-4f12a321be8b",
   "metadata": {},
   "source": [
    "Try a fully python numpy based algorithm for finding nearest neighbor"
   ]
  },
  {
   "cell_type": "code",
   "execution_count": 10,
   "id": "8c20c942-8023-4425-b507-6e6a65e8e425",
   "metadata": {},
   "outputs": [],
   "source": [
    "def get_distance(x, box, dim=3):\n",
    "    box_2 = box/2\n",
    "    xdum = []\n",
    "    for i in range(dim):\n",
    "        xd = np.meshgrid(x[i], x[i])[1] - np.meshgrid(x[i], x[i])[0]\n",
    "        xdum.append(xd)\n",
    "    xd = np.array(xdum)\n",
    "    for i in range(dim):\n",
    "        xd[i] = np.where(xd[i] > box_2[i], xd[i]-box[i], xd[i])\n",
    "        xd[i] = np.where(xd[i] < -box_2[i], xd[i]+box[i], xd[i])\n",
    "    return xd"
   ]
  },
  {
   "cell_type": "code",
   "execution_count": 12,
   "id": "73b78891-ef91-45f0-aba1-1e8be0fc187f",
   "metadata": {},
   "outputs": [],
   "source": [
    "x = sys.atoms['positions']\n",
    "box = sys.boxdims"
   ]
  },
  {
   "cell_type": "code",
   "execution_count": 16,
   "id": "6337c594-f8ca-447d-8277-f86987ce3e21",
   "metadata": {},
   "outputs": [],
   "source": [
    "x = np.array(x)"
   ]
  },
  {
   "cell_type": "code",
   "execution_count": 20,
   "id": "ed395d26-9344-4ca1-acd4-5ae7a8949748",
   "metadata": {},
   "outputs": [],
   "source": [
    "y = x.T"
   ]
  },
  {
   "cell_type": "code",
   "execution_count": 28,
   "id": "9d26f239-c648-4454-b45d-4fbede636145",
   "metadata": {},
   "outputs": [
    {
     "name": "stdout",
     "output_type": "stream",
     "text": [
      "224 ms ± 857 µs per loop (mean ± std. dev. of 7 runs, 1 loop each)\n"
     ]
    }
   ],
   "source": [
    "%%timeit\n",
    "xd = get_distance(y, np.array(box))"
   ]
  },
  {
   "cell_type": "code",
   "execution_count": 27,
   "id": "0eb9ab1c-921e-48a2-a753-8eb9d04371c2",
   "metadata": {},
   "outputs": [
    {
     "data": {
      "text/plain": [
       "(3, 2000, 2000)"
      ]
     },
     "execution_count": 27,
     "metadata": {},
     "output_type": "execute_result"
    }
   ],
   "source": [
    "xd.shape"
   ]
  },
  {
   "cell_type": "code",
   "execution_count": 23,
   "id": "5c35e8a0-4e7c-48fc-a7d2-e7a348d2896c",
   "metadata": {
    "collapsed": true,
    "jupyter": {
     "outputs_hidden": true
    },
    "tags": []
   },
   "outputs": [
    {
     "data": {
      "text/plain": [
       "array([[[ 0.    , -1.5635,  0.    , ...,  1.5635,  3.127 ,  1.5635],\n",
       "        [ 1.5635,  0.    ,  1.5635, ...,  3.127 ,  4.6905,  3.127 ],\n",
       "        [ 0.    , -1.5635,  0.    , ...,  1.5635,  3.127 ,  1.5635],\n",
       "        ...,\n",
       "        [-1.5635, -3.127 , -1.5635, ...,  0.    ,  1.5635,  0.    ],\n",
       "        [-3.127 , -4.6905, -3.127 , ..., -1.5635,  0.    , -1.5635],\n",
       "        [-1.5635, -3.127 , -1.5635, ...,  0.    ,  1.5635,  0.    ]],\n",
       "\n",
       "       [[ 0.    , -1.5635,  0.    , ...,  1.5635,  3.127 ,  1.5635],\n",
       "        [ 1.5635,  0.    ,  1.5635, ...,  3.127 ,  4.6905,  3.127 ],\n",
       "        [ 0.    , -1.5635,  0.    , ...,  1.5635,  3.127 ,  1.5635],\n",
       "        ...,\n",
       "        [-1.5635, -3.127 , -1.5635, ...,  0.    ,  1.5635,  0.    ],\n",
       "        [-3.127 , -4.6905, -3.127 , ..., -1.5635,  0.    , -1.5635],\n",
       "        [-1.5635, -3.127 , -1.5635, ...,  0.    ,  1.5635,  0.    ]],\n",
       "\n",
       "       [[ 0.    , -1.5635, -3.127 , ...,  4.6905,  3.127 ,  1.5635],\n",
       "        [ 1.5635,  0.    , -1.5635, ...,  6.254 ,  4.6905,  3.127 ],\n",
       "        [ 3.127 ,  1.5635,  0.    , ...,  7.8175,  6.254 ,  4.6905],\n",
       "        ...,\n",
       "        [-4.6905, -6.254 , -7.8175, ...,  0.    , -1.5635, -3.127 ],\n",
       "        [-3.127 , -4.6905, -6.254 , ...,  1.5635,  0.    , -1.5635],\n",
       "        [-1.5635, -3.127 , -4.6905, ...,  3.127 ,  1.5635,  0.    ]]])"
      ]
     },
     "execution_count": 23,
     "metadata": {},
     "output_type": "execute_result"
    }
   ],
   "source": [
    "np.where(xd[]"
   ]
  },
  {
   "cell_type": "code",
   "execution_count": null,
   "id": "7669c585-0a71-47dd-9f02-a2d8c50f526f",
   "metadata": {},
   "outputs": [],
   "source": []
  }
 ],
 "metadata": {
  "kernelspec": {
   "display_name": "Python 3 (ipykernel)",
   "language": "python",
   "name": "python3"
  },
  "language_info": {
   "codemirror_mode": {
    "name": "ipython",
    "version": 3
   },
   "file_extension": ".py",
   "mimetype": "text/x-python",
   "name": "python",
   "nbconvert_exporter": "python",
   "pygments_lexer": "ipython3",
   "version": "3.10.2"
  }
 },
 "nbformat": 4,
 "nbformat_minor": 5
}
