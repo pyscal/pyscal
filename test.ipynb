{
 "cells": [
  {
   "cell_type": "code",
   "execution_count": 1,
   "id": "liquid-concert",
   "metadata": {},
   "outputs": [],
   "source": [
    "import pyscal.crystal_structures as pcs\n",
    "import pyscal.csystem as pcm\n",
    "import pyscal.core as pc\n",
    "from ase import atoms\n",
    "from ase.io import read, write\n",
    "from ase.build import bulk\n",
    "import numpy as np\n",
    "import matplotlib.pyplot as plt"
   ]
  },
  {
   "cell_type": "code",
   "execution_count": 2,
   "id": "alert-agreement",
   "metadata": {},
   "outputs": [
    {
     "name": "stdout",
     "output_type": "stream",
     "text": [
      "2000\n"
     ]
    }
   ],
   "source": [
    "nx = 10\n",
    "satoms, box = pcs.make_crystal(structure='bcc', \n",
    "    lattice_constant=3.127, \n",
    "    repetitions=(nx,nx,nx),)\n",
    "print(len(satoms[\"positions\"]))\n",
    "sys = pc.System()\n",
    "sys.box = box\n",
    "sys.atoms = satoms\n"
   ]
  },
  {
   "cell_type": "code",
   "execution_count": 3,
   "id": "d2535ada-ee04-4bbf-a312-cfc3e1d546ab",
   "metadata": {},
   "outputs": [],
   "source": [
    "sys.find_neighbors(method=\"cutoff\", \n",
    "                   cutoff=3.6)"
   ]
  },
  {
   "cell_type": "code",
   "execution_count": 4,
   "id": "1f13953e-7f4d-41b5-80fa-5bd31402a722",
   "metadata": {},
   "outputs": [],
   "source": [
    "a = sys.calculate_q(4)"
   ]
  },
  {
   "cell_type": "code",
   "execution_count": 6,
   "id": "b817e9d0-2c21-411a-a1c2-7b3be9bee8ff",
   "metadata": {},
   "outputs": [],
   "source": [
    "b = sys._calculate_aq([4])"
   ]
  },
  {
   "cell_type": "code",
   "execution_count": 7,
   "id": "d3810b40-9f16-415d-b3e1-f9db37f9cace",
   "metadata": {},
   "outputs": [
    {
     "data": {
      "text/plain": [
       "[[0.036369648372665424]]"
      ]
     },
     "execution_count": 7,
     "metadata": {},
     "output_type": "execute_result"
    }
   ],
   "source": [
    "b"
   ]
  },
  {
   "cell_type": "code",
   "execution_count": null,
   "id": "e01a036c-dd55-4128-ad83-8eeff31a3656",
   "metadata": {},
   "outputs": [],
   "source": []
  }
 ],
 "metadata": {
  "kernelspec": {
   "display_name": "pyscal-test",
   "language": "python",
   "name": "pyscal-test"
  },
  "language_info": {
   "codemirror_mode": {
    "name": "ipython",
    "version": 3
   },
   "file_extension": ".py",
   "mimetype": "text/x-python",
   "name": "python",
   "nbconvert_exporter": "python",
   "pygments_lexer": "ipython3",
   "version": "3.10.1"
  }
 },
 "nbformat": 4,
 "nbformat_minor": 5
}
