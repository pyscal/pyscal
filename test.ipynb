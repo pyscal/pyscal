{
 "cells": [
  {
   "cell_type": "code",
   "execution_count": 1,
   "id": "liquid-concert",
   "metadata": {},
   "outputs": [],
   "source": [
    "import pyscal.crystal_structures as pcs\n",
    "import pyscal.csystem as pcm\n",
    "import pyscal.core as pc\n",
    "from ase import atoms\n",
    "from ase.io import read, write\n",
    "from ase.build import bulk\n",
    "import numpy as np\n",
    "import matplotlib.pyplot as plt"
   ]
  },
  {
   "cell_type": "code",
   "execution_count": 2,
   "id": "a9ed999e-6f13-4793-93d2-010af1a72024",
   "metadata": {},
   "outputs": [],
   "source": [
    "%load_ext memory_profiler"
   ]
  },
  {
   "cell_type": "code",
   "execution_count": 16,
   "id": "alert-agreement",
   "metadata": {},
   "outputs": [
    {
     "name": "stdout",
     "output_type": "stream",
     "text": [
      "54000\n"
     ]
    }
   ],
   "source": [
    "nx = 30\n",
    "satoms, box = pcs.make_crystal(structure='bcc', \n",
    "    lattice_constant=3.127, \n",
    "    repetitions=(nx,nx,nx),)\n",
    "print(len(satoms[\"positions\"]))\n",
    "sys = pc.System()\n",
    "sys.box = box\n",
    "sys.atoms = satoms\n"
   ]
  },
  {
   "cell_type": "code",
   "execution_count": 17,
   "id": "d2535ada-ee04-4bbf-a312-cfc3e1d546ab",
   "metadata": {},
   "outputs": [
    {
     "name": "stdout",
     "output_type": "stream",
     "text": [
      "peak memory: 566.48 MiB, increment: 370.04 MiB\n"
     ]
    }
   ],
   "source": [
    "%%memit\n",
    "sys.find_neighbors(method=\"cutoff\", \n",
    "                   cutoff=3.6)"
   ]
  },
  {
   "cell_type": "code",
   "execution_count": null,
   "id": "8dee42a0-1436-4676-9569-8b0bbfc11505",
   "metadata": {},
   "outputs": [],
   "source": []
  }
 ],
 "metadata": {
  "kernelspec": {
   "display_name": "pyscal-test",
   "language": "python",
   "name": "pyscal-test"
  },
  "language_info": {
   "codemirror_mode": {
    "name": "ipython",
    "version": 3
   },
   "file_extension": ".py",
   "mimetype": "text/x-python",
   "name": "python",
   "nbconvert_exporter": "python",
   "pygments_lexer": "ipython3",
   "version": "3.10.1"
  }
 },
 "nbformat": 4,
 "nbformat_minor": 5
}
