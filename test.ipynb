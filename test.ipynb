{
 "cells": [
  {
   "cell_type": "code",
   "execution_count": 1,
   "id": "liquid-concert",
   "metadata": {},
   "outputs": [],
   "source": [
    "import pyscal.crystal_structures as pcs\n",
    "import pyscal.csystem as pcm\n",
    "import pyscal.core as pc\n",
    "from ase import atoms\n",
    "from ase.io import read, write\n",
    "from ase.build import bulk\n",
    "import numpy as np\n",
    "import matplotlib.pyplot as plt"
   ]
  },
  {
   "cell_type": "code",
   "execution_count": 2,
   "id": "alert-agreement",
   "metadata": {},
   "outputs": [
    {
     "name": "stdout",
     "output_type": "stream",
     "text": [
      "2000\n"
     ]
    }
   ],
   "source": [
    "nx = 10\n",
    "satoms, box = pcs.make_crystal(structure='bcc', \n",
    "    lattice_constant=3.127, \n",
    "    repetitions=(nx,nx,nx),)\n",
    "print(len(satoms[\"positions\"]))\n",
    "sys = pc.System()\n",
    "sys.box = box\n",
    "sys.atoms = satoms\n"
   ]
  },
  {
   "cell_type": "code",
   "execution_count": 3,
   "id": "d2535ada-ee04-4bbf-a312-cfc3e1d546ab",
   "metadata": {},
   "outputs": [],
   "source": [
    "sys.find_neighbors(method=\"cutoff\", \n",
    "                   cutoff=3.6)"
   ]
  },
  {
   "cell_type": "code",
   "execution_count": 31,
   "id": "c718de03-a8f2-4d20-8715-07edc09f83c1",
   "metadata": {},
   "outputs": [],
   "source": [
    "qlist = [2, 3, 4, 5, 6, 7, 8, 9, 10, 11, 12, 13, 14, 15, 16, 17, 18, 19, \n",
    "         20, 21, 22, 23, 24, 25, 26, 27, 28, 29, 30,\n",
    "        31, 32, 33, 34, 35, 36, 37, 38, 39, 40,\n",
    "        41, 42, 43, 44, 45, 46, 47, 48, 49, 50]"
   ]
  },
  {
   "cell_type": "code",
   "execution_count": 32,
   "id": "1f13953e-7f4d-41b5-80fa-5bd31402a722",
   "metadata": {},
   "outputs": [
    {
     "name": "stdout",
     "output_type": "stream",
     "text": [
      "18.3 s ± 114 ms per loop (mean ± std. dev. of 7 runs, 1 loop each)\n"
     ]
    }
   ],
   "source": [
    "%%timeit\n",
    "sys.calculate_q(qlist, use_c=False)"
   ]
  },
  {
   "cell_type": "code",
   "execution_count": 33,
   "id": "dffc697d-c177-4494-9cea-296728b3e3c7",
   "metadata": {},
   "outputs": [
    {
     "name": "stdout",
     "output_type": "stream",
     "text": [
      "13.1 s ± 231 ms per loop (mean ± std. dev. of 7 runs, 1 loop each)\n"
     ]
    }
   ],
   "source": [
    "%%timeit\n",
    "sys.calculate_q(qlist, use_c=True)"
   ]
  },
  {
   "cell_type": "code",
   "execution_count": null,
   "id": "d3810b40-9f16-415d-b3e1-f9db37f9cace",
   "metadata": {},
   "outputs": [],
   "source": []
  }
 ],
 "metadata": {
  "kernelspec": {
   "display_name": "pyscal-test",
   "language": "python",
   "name": "pyscal-test"
  },
  "language_info": {
   "codemirror_mode": {
    "name": "ipython",
    "version": 3
   },
   "file_extension": ".py",
   "mimetype": "text/x-python",
   "name": "python",
   "nbconvert_exporter": "python",
   "pygments_lexer": "ipython3",
   "version": "3.10.1"
  }
 },
 "nbformat": 4,
 "nbformat_minor": 5
}
