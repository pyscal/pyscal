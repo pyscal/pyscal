{
 "cells": [
  {
   "cell_type": "markdown",
   "id": "73272260-6ae1-450a-8a95-47cf3b1e7bbf",
   "metadata": {},
   "source": [
    "# A deep dive into `Atoms`"
   ]
  },
  {
   "cell_type": "markdown",
   "id": "d1b9f4a5-b80f-4b5d-82cc-b62e56692338",
   "metadata": {},
   "source": [
    "This example illustrates the various properties of `Atoms` and how to "
   ]
  },
  {
   "cell_type": "code",
   "execution_count": null,
   "id": "ba5061a6-6756-452d-85d2-6024f3a44c8b",
   "metadata": {},
   "outputs": [],
   "source": []
  }
 ],
 "metadata": {
  "kernelspec": {
   "display_name": "Python 3 (ipykernel)",
   "language": "python",
   "name": "python3"
  },
  "language_info": {
   "codemirror_mode": {
    "name": "ipython",
    "version": 3
   },
   "file_extension": ".py",
   "mimetype": "text/x-python",
   "name": "python",
   "nbconvert_exporter": "python",
   "pygments_lexer": "ipython3",
   "version": "3.10.6"
  }
 },
 "nbformat": 4,
 "nbformat_minor": 5
}
